{
 "cells": [
  {
   "cell_type": "markdown",
   "id": "db508daa",
   "metadata": {},
   "source": [
    "# 1. Hello Python (print, help, comment)\n",
    "\n",
    "### print(&nbsp;)   \n",
    "\n",
    "  \n",
    "### help( ) 혹은 help(명령어) "
   ]
  },
  {
   "cell_type": "markdown",
   "id": "e46e2a53",
   "metadata": {},
   "source": [
    "- print 문"
   ]
  },
  {
   "cell_type": "code",
   "execution_count": null,
   "id": "34e31aa2",
   "metadata": {},
   "outputs": [],
   "source": []
  },
  {
   "cell_type": "markdown",
   "id": "f7cd1abf",
   "metadata": {},
   "source": [
    "- 한글 print"
   ]
  },
  {
   "cell_type": "code",
   "execution_count": null,
   "id": "cdb8b7f9",
   "metadata": {},
   "outputs": [],
   "source": []
  },
  {
   "cell_type": "markdown",
   "id": "0448e31a",
   "metadata": {},
   "source": [
    "- 여러 단어 print"
   ]
  },
  {
   "cell_type": "code",
   "execution_count": null,
   "id": "5899f7f6",
   "metadata": {},
   "outputs": [],
   "source": []
  },
  {
   "cell_type": "code",
   "execution_count": null,
   "id": "aeb4fdaa",
   "metadata": {},
   "outputs": [],
   "source": []
  },
  {
   "cell_type": "code",
   "execution_count": null,
   "id": "7c28d93f",
   "metadata": {},
   "outputs": [],
   "source": []
  },
  {
   "cell_type": "markdown",
   "id": "06d06272",
   "metadata": {},
   "source": [
    "- 여러 줄 print"
   ]
  },
  {
   "cell_type": "code",
   "execution_count": null,
   "id": "c64b8ad5",
   "metadata": {},
   "outputs": [],
   "source": []
  },
  {
   "cell_type": "markdown",
   "id": "b8f56418",
   "metadata": {},
   "source": [
    "- 줄바뀜 조절"
   ]
  },
  {
   "cell_type": "code",
   "execution_count": null,
   "id": "885057c3",
   "metadata": {},
   "outputs": [],
   "source": []
  },
  {
   "cell_type": "markdown",
   "id": "cd4903f4",
   "metadata": {},
   "source": [
    "### comment"
   ]
  },
  {
   "cell_type": "code",
   "execution_count": null,
   "id": "a1117da9",
   "metadata": {},
   "outputs": [],
   "source": [
    "# 여러분은 print 문을 이용하여 원하는 메시지를 출력할 수 있게 되었습니다. # 은 comment 입니다.\n",
    "#print(\"comment 는 수행되지 않습니다\")"
   ]
  },
  {
   "cell_type": "markdown",
   "id": "c0c8dc33",
   "metadata": {},
   "source": [
    "### docstring\n",
    "\n",
    "- 여러줄로 자유롭게 기술\n",
    "- program 어느 곳이나 위치 할 수 있으나 가능한 program 시작 부분에 위치하는 것을 권장함\n",
    "- program 의 목적 (what to do) 에 대하여 문서화"
   ]
  },
  {
   "cell_type": "code",
   "execution_count": null,
   "id": "3c352e35",
   "metadata": {},
   "outputs": [],
   "source": []
  },
  {
   "cell_type": "markdown",
   "id": "44f969e9",
   "metadata": {},
   "source": [
    "- 문장 가운데 줄 바뀜"
   ]
  },
  {
   "cell_type": "code",
   "execution_count": null,
   "id": "ebc8d806",
   "metadata": {},
   "outputs": [],
   "source": []
  },
  {
   "cell_type": "code",
   "execution_count": null,
   "id": "00a6f94f",
   "metadata": {},
   "outputs": [],
   "source": []
  },
  {
   "cell_type": "markdown",
   "id": "fa4c7fe8",
   "metadata": {},
   "source": [
    "- 도움말 함수"
   ]
  },
  {
   "cell_type": "code",
   "execution_count": null,
   "id": "629d084c",
   "metadata": {},
   "outputs": [],
   "source": []
  }
 ],
 "metadata": {
  "kernelspec": {
   "display_name": "Python 3 (ipykernel)",
   "language": "python",
   "name": "python3"
  },
  "language_info": {
   "codemirror_mode": {
    "name": "ipython",
    "version": 3
   },
   "file_extension": ".py",
   "mimetype": "text/x-python",
   "name": "python",
   "nbconvert_exporter": "python",
   "pygments_lexer": "ipython3",
   "version": "3.9.7"
  }
 },
 "nbformat": 4,
 "nbformat_minor": 5
}
