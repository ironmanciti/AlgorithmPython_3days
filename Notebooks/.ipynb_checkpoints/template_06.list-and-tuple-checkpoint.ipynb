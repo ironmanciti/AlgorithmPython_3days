{
 "cells": [
  {
   "cell_type": "markdown",
   "id": "9be1315b",
   "metadata": {},
   "source": [
    "# 6. 리스트(List) 와 Tuple\n",
    "\n",
    "## 6.1 List 구조\n",
    "\n",
    "- 일상생활에서 흔히 볼 수 있는 자료구조 (Data Structure)\n",
    "\n",
    "        예) 할일 목록 (to-do list), 식료품 구입 리스트, 초대장 리스트, 소원목록 (wish list), 국가 목록 등.\n",
    "\n",
    "-  List 는 top-10 list 처럼 순서가 있을 수도 있고, 친구 목록처럼 순서가 없을 수도 있음.\n",
    "\n",
    "\n",
    "- List 의 항목들을 요소 (element) 라고 한다.\n",
    "\n",
    "\n",
    "-  Python 문법에서 list 는 대괄호 (bracket) 로 표시하고 element 는 콤마(,) 로 구분하여 대괄호안에 위치함.\n",
    "\n",
    "\n",
    "-  List 의 element 는 지금까지 배운 Python 의 모든 자료형과 함수가 사용될 수 있음."
   ]
  },
  {
   "cell_type": "markdown",
   "id": "56ebf71d",
   "metadata": {},
   "source": [
    "- list 생성"
   ]
  },
  {
   "cell_type": "code",
   "execution_count": null,
   "id": "e0f8ab09",
   "metadata": {},
   "outputs": [],
   "source": []
  },
  {
   "cell_type": "code",
   "execution_count": null,
   "id": "f86ad0dc",
   "metadata": {},
   "outputs": [],
   "source": []
  },
  {
   "cell_type": "markdown",
   "id": "26980765",
   "metadata": {},
   "source": [
    "- list element의 data type"
   ]
  },
  {
   "cell_type": "code",
   "execution_count": null,
   "id": "d48a1c81",
   "metadata": {},
   "outputs": [],
   "source": []
  },
  {
   "cell_type": "code",
   "execution_count": null,
   "id": "56b5db4f",
   "metadata": {},
   "outputs": [],
   "source": []
  },
  {
   "cell_type": "markdown",
   "id": "53bb6b66",
   "metadata": {},
   "source": [
    "- 함수에서 list 반환"
   ]
  },
  {
   "cell_type": "code",
   "execution_count": null,
   "id": "bd6193fd",
   "metadata": {},
   "outputs": [],
   "source": [
    "def f(n):"
   ]
  },
  {
   "cell_type": "code",
   "execution_count": null,
   "id": "aec25baa",
   "metadata": {},
   "outputs": [],
   "source": []
  },
  {
   "cell_type": "code",
   "execution_count": null,
   "id": "154a792d",
   "metadata": {},
   "outputs": [],
   "source": []
  },
  {
   "cell_type": "code",
   "execution_count": null,
   "id": "8c3b1dfa",
   "metadata": {},
   "outputs": [],
   "source": []
  },
  {
   "cell_type": "code",
   "execution_count": null,
   "id": "e6d05ce5",
   "metadata": {},
   "outputs": [],
   "source": []
  },
  {
   "cell_type": "markdown",
   "id": "069521f9",
   "metadata": {},
   "source": [
    "- list 내부의 연산"
   ]
  },
  {
   "cell_type": "code",
   "execution_count": null,
   "id": "7d182107",
   "metadata": {},
   "outputs": [],
   "source": []
  },
  {
   "cell_type": "code",
   "execution_count": null,
   "id": "3d9b752e",
   "metadata": {},
   "outputs": [],
   "source": []
  },
  {
   "cell_type": "markdown",
   "id": "0231f071",
   "metadata": {},
   "source": [
    "### list 의 주요 method\n",
    "\n",
    "- len( ) : list 의 길이\n",
    "- sort( ) : list sort\n",
    "- reverse( ) : list 를 역순으로 sort\n",
    "- append( ) : list 끝에 new item 추가\n",
    "- extend( )  : 다른 list 추가\n",
    "- pop( )  : list 의 마지막 item 제거 및 반환\n",
    "- pop(i) : i 번째 item 제거 및 반환\n",
    "- del alist[i] : i 번째  item delete\n",
    "- count( ) : list element 의 갯수 \n",
    "- index( ) : list element 의 index"
   ]
  },
  {
   "cell_type": "markdown",
   "id": "7a6a3fb1",
   "metadata": {},
   "source": [
    "-  여러개의 list 를 결합"
   ]
  },
  {
   "cell_type": "code",
   "execution_count": null,
   "id": "5433db46",
   "metadata": {},
   "outputs": [],
   "source": []
  },
  {
   "cell_type": "markdown",
   "id": "310ee6c1",
   "metadata": {},
   "source": [
    "- list의 특정 element 추출"
   ]
  },
  {
   "cell_type": "code",
   "execution_count": null,
   "id": "44db0744",
   "metadata": {},
   "outputs": [],
   "source": []
  },
  {
   "cell_type": "markdown",
   "id": "c6eb709b",
   "metadata": {},
   "source": [
    "- list의 특정 element 삭제"
   ]
  },
  {
   "cell_type": "code",
   "execution_count": null,
   "id": "7a44fce8",
   "metadata": {},
   "outputs": [],
   "source": []
  },
  {
   "cell_type": "code",
   "execution_count": null,
   "id": "475e9852",
   "metadata": {},
   "outputs": [],
   "source": []
  },
  {
   "cell_type": "markdown",
   "id": "00dc3573",
   "metadata": {},
   "source": [
    "- list 의 원소(element) 갯수"
   ]
  },
  {
   "cell_type": "code",
   "execution_count": null,
   "id": "37f3a6a4",
   "metadata": {},
   "outputs": [],
   "source": []
  },
  {
   "cell_type": "markdown",
   "id": "faa536a9",
   "metadata": {},
   "source": [
    "### list 원소(element) 추가 / 확장"
   ]
  },
  {
   "cell_type": "markdown",
   "id": "7f0e05ee",
   "metadata": {},
   "source": [
    "- list에 element 추가"
   ]
  },
  {
   "cell_type": "code",
   "execution_count": null,
   "id": "4a6df0d6",
   "metadata": {},
   "outputs": [],
   "source": []
  },
  {
   "cell_type": "code",
   "execution_count": null,
   "id": "8989432c",
   "metadata": {},
   "outputs": [],
   "source": []
  },
  {
   "cell_type": "code",
   "execution_count": null,
   "id": "dadbde8a",
   "metadata": {},
   "outputs": [],
   "source": []
  },
  {
   "cell_type": "markdown",
   "id": "60fed8d2",
   "metadata": {},
   "source": [
    "- list 확장"
   ]
  },
  {
   "cell_type": "code",
   "execution_count": null,
   "id": "51fbd89f",
   "metadata": {},
   "outputs": [],
   "source": []
  },
  {
   "cell_type": "code",
   "execution_count": null,
   "id": "537d7712",
   "metadata": {},
   "outputs": [],
   "source": []
  },
  {
   "cell_type": "code",
   "execution_count": null,
   "id": "b72bc992",
   "metadata": {},
   "outputs": [],
   "source": []
  },
  {
   "cell_type": "markdown",
   "id": "6c74f810",
   "metadata": {},
   "source": [
    "### list 내의 list"
   ]
  },
  {
   "cell_type": "code",
   "execution_count": null,
   "id": "a695da34",
   "metadata": {},
   "outputs": [],
   "source": []
  },
  {
   "cell_type": "code",
   "execution_count": null,
   "id": "bade7286",
   "metadata": {},
   "outputs": [],
   "source": []
  },
  {
   "cell_type": "code",
   "execution_count": null,
   "id": "2453c437",
   "metadata": {},
   "outputs": [],
   "source": []
  },
  {
   "cell_type": "markdown",
   "id": "26862932",
   "metadata": {},
   "source": [
    "### list element 의 변수 assign"
   ]
  },
  {
   "cell_type": "code",
   "execution_count": null,
   "id": "3f71b7fd",
   "metadata": {},
   "outputs": [],
   "source": []
  },
  {
   "cell_type": "code",
   "execution_count": null,
   "id": "ecb8da7a",
   "metadata": {},
   "outputs": [],
   "source": []
  },
  {
   "cell_type": "code",
   "execution_count": null,
   "id": "eeefb862",
   "metadata": {},
   "outputs": [],
   "source": []
  },
  {
   "cell_type": "markdown",
   "id": "6fbd1dab",
   "metadata": {},
   "source": [
    "### list methods"
   ]
  },
  {
   "cell_type": "code",
   "execution_count": null,
   "id": "cbde298d",
   "metadata": {},
   "outputs": [],
   "source": []
  },
  {
   "cell_type": "markdown",
   "id": "59b78ce9",
   "metadata": {},
   "source": [
    "- list 정렬"
   ]
  },
  {
   "cell_type": "code",
   "execution_count": null,
   "id": "577a407f",
   "metadata": {},
   "outputs": [],
   "source": []
  },
  {
   "cell_type": "code",
   "execution_count": null,
   "id": "4d1c57c1",
   "metadata": {},
   "outputs": [],
   "source": []
  },
  {
   "cell_type": "markdown",
   "id": "00912c81",
   "metadata": {},
   "source": [
    "- 역순으로 정렬"
   ]
  },
  {
   "cell_type": "code",
   "execution_count": null,
   "id": "c6770a6e",
   "metadata": {},
   "outputs": [],
   "source": []
  },
  {
   "cell_type": "markdown",
   "id": "d4f69665",
   "metadata": {},
   "source": [
    "- 합계"
   ]
  },
  {
   "cell_type": "code",
   "execution_count": null,
   "id": "19dbb09b",
   "metadata": {},
   "outputs": [],
   "source": []
  },
  {
   "cell_type": "code",
   "execution_count": null,
   "id": "edb07466",
   "metadata": {},
   "outputs": [],
   "source": []
  },
  {
   "cell_type": "markdown",
   "id": "c6a1646b",
   "metadata": {},
   "source": [
    "- 최대값"
   ]
  },
  {
   "cell_type": "code",
   "execution_count": null,
   "id": "14180405",
   "metadata": {},
   "outputs": [],
   "source": []
  },
  {
   "cell_type": "markdown",
   "id": "28559ea0",
   "metadata": {},
   "source": [
    "- 최소값"
   ]
  },
  {
   "cell_type": "code",
   "execution_count": null,
   "id": "43f09a4a",
   "metadata": {},
   "outputs": [],
   "source": []
  },
  {
   "cell_type": "markdown",
   "id": "3c1aaa78",
   "metadata": {},
   "source": [
    "- list를 tuple로 변경"
   ]
  },
  {
   "cell_type": "code",
   "execution_count": null,
   "id": "e1f03dc8",
   "metadata": {},
   "outputs": [],
   "source": []
  },
  {
   "cell_type": "markdown",
   "id": "6dffe961",
   "metadata": {},
   "source": [
    "- 특정 element 삭제"
   ]
  },
  {
   "cell_type": "code",
   "execution_count": null,
   "id": "62c776c6",
   "metadata": {},
   "outputs": [],
   "source": []
  },
  {
   "cell_type": "markdown",
   "id": "78c4036a",
   "metadata": {},
   "source": [
    "- list 내의 특정 element 갯수 count"
   ]
  },
  {
   "cell_type": "code",
   "execution_count": null,
   "id": "0f3bd57b",
   "metadata": {},
   "outputs": [],
   "source": []
  },
  {
   "cell_type": "markdown",
   "id": "e547aebc",
   "metadata": {},
   "source": [
    "- list 내 특정 element의 index"
   ]
  },
  {
   "cell_type": "code",
   "execution_count": null,
   "id": "5a6d76fc",
   "metadata": {},
   "outputs": [],
   "source": []
  },
  {
   "cell_type": "markdown",
   "id": "f8109bb7",
   "metadata": {},
   "source": [
    "## 6-2. List 의 indexing\n",
    "\n",
    "### list 를 구성하는 element 들은 위치에 따라 index 로 접근할 수 있다.\n",
    "### index 는 대괄호(bracket)안에 정수(integer) 로 표시\n",
    "### Python 의 index 는 0 부터 시작하는 양수 혹은 -1 부터 시작하는 음수로 표시할 수 있다.\n",
    "```\n",
    "      0   1   2   3   4   5 \n",
    "    +---+---+---+---+---+---+\n",
    "    | H | e | l | l | o | ! |\n",
    "    +---+---+---+---+---+---+\n",
    "      -6  -5  -4  -3  -2  -1\n",
    "```"
   ]
  },
  {
   "cell_type": "code",
   "execution_count": null,
   "id": "e032bdc8",
   "metadata": {},
   "outputs": [],
   "source": []
  },
  {
   "cell_type": "markdown",
   "id": "dcd49e16",
   "metadata": {},
   "source": [
    "- 첫번째 element"
   ]
  },
  {
   "cell_type": "code",
   "execution_count": null,
   "id": "7b83148a",
   "metadata": {},
   "outputs": [],
   "source": []
  },
  {
   "cell_type": "markdown",
   "id": "6ffc28e6",
   "metadata": {},
   "source": [
    "- 6번째 element"
   ]
  },
  {
   "cell_type": "code",
   "execution_count": null,
   "id": "32de2b6e",
   "metadata": {},
   "outputs": [],
   "source": []
  },
  {
   "cell_type": "code",
   "execution_count": null,
   "id": "3267ecc5",
   "metadata": {},
   "outputs": [],
   "source": []
  },
  {
   "cell_type": "markdown",
   "id": "e37ff07f",
   "metadata": {},
   "source": [
    "- list의 마지막 element"
   ]
  },
  {
   "cell_type": "code",
   "execution_count": null,
   "id": "2410b191",
   "metadata": {},
   "outputs": [],
   "source": []
  },
  {
   "cell_type": "code",
   "execution_count": null,
   "id": "18f47bec",
   "metadata": {},
   "outputs": [],
   "source": []
  },
  {
   "cell_type": "code",
   "execution_count": null,
   "id": "1b56d0f4",
   "metadata": {},
   "outputs": [],
   "source": []
  },
  {
   "cell_type": "markdown",
   "id": "972bfccd",
   "metadata": {},
   "source": [
    "- list의 특정 element update"
   ]
  },
  {
   "cell_type": "code",
   "execution_count": null,
   "id": "13c663d1",
   "metadata": {},
   "outputs": [],
   "source": []
  },
  {
   "cell_type": "code",
   "execution_count": null,
   "id": "15e26575",
   "metadata": {},
   "outputs": [],
   "source": []
  },
  {
   "cell_type": "code",
   "execution_count": null,
   "id": "50bd5b8e",
   "metadata": {},
   "outputs": [],
   "source": []
  },
  {
   "cell_type": "markdown",
   "id": "08ae566f",
   "metadata": {},
   "source": [
    "- list 의 뒤에서 2번째"
   ]
  },
  {
   "cell_type": "code",
   "execution_count": null,
   "id": "2bc2a824",
   "metadata": {},
   "outputs": [],
   "source": []
  },
  {
   "cell_type": "markdown",
   "id": "e200138e",
   "metadata": {},
   "source": [
    "- 뒤쪽부터 indexing"
   ]
  },
  {
   "cell_type": "code",
   "execution_count": null,
   "id": "3cc98467",
   "metadata": {},
   "outputs": [],
   "source": []
  },
  {
   "cell_type": "markdown",
   "id": "ef13806b",
   "metadata": {},
   "source": [
    "- list element로 이루어진 list의 indexing"
   ]
  },
  {
   "cell_type": "code",
   "execution_count": null,
   "id": "639bff65",
   "metadata": {},
   "outputs": [],
   "source": []
  },
  {
   "cell_type": "code",
   "execution_count": null,
   "id": "dde8a8b4",
   "metadata": {},
   "outputs": [],
   "source": []
  },
  {
   "cell_type": "code",
   "execution_count": null,
   "id": "19e7d096",
   "metadata": {},
   "outputs": [],
   "source": []
  },
  {
   "cell_type": "code",
   "execution_count": null,
   "id": "2c3d6346",
   "metadata": {},
   "outputs": [],
   "source": []
  },
  {
   "cell_type": "markdown",
   "id": "419aff07",
   "metadata": {},
   "source": [
    "## 6-3. 인덱스 (Index) 를 이용한 list 의 element 자르기 (slicing)\n",
    "\n",
    "\n",
    "### list 의 일부분을 범위 지정할 수 있다.\n",
    "    list[start : end]   => start ~ end-1\n",
    "    list[start:]      => start ~ 끝까지\n",
    "    list[:end]        => 처음 ~ end-1\n",
    "    list[:]           => list 전체\n",
    "    \n",
    "### 증가분 (increment) 를 지정하면 더욱 다양한 slicing 이 가능하다.\n",
    "    list[start : end : increment]\n",
    "    \n",
    "### increment 가 음수 (-) 이면 뒤에서부터 거꾸로 처리한다."
   ]
  },
  {
   "cell_type": "markdown",
   "id": "be391896",
   "metadata": {},
   "source": [
    "- list의 slicing"
   ]
  },
  {
   "cell_type": "code",
   "execution_count": null,
   "id": "59eb0529",
   "metadata": {},
   "outputs": [],
   "source": []
  },
  {
   "cell_type": "code",
   "execution_count": null,
   "id": "d749f3e8",
   "metadata": {},
   "outputs": [],
   "source": []
  },
  {
   "cell_type": "code",
   "execution_count": null,
   "id": "df40a208",
   "metadata": {},
   "outputs": [],
   "source": []
  },
  {
   "cell_type": "code",
   "execution_count": null,
   "id": "7d998465",
   "metadata": {},
   "outputs": [],
   "source": []
  },
  {
   "cell_type": "code",
   "execution_count": null,
   "id": "c2c5f64a",
   "metadata": {},
   "outputs": [],
   "source": []
  },
  {
   "cell_type": "code",
   "execution_count": null,
   "id": "25b9cd61",
   "metadata": {},
   "outputs": [],
   "source": []
  },
  {
   "cell_type": "code",
   "execution_count": null,
   "id": "c03bdb38",
   "metadata": {},
   "outputs": [],
   "source": []
  },
  {
   "cell_type": "code",
   "execution_count": null,
   "id": "3a6dd82f",
   "metadata": {},
   "outputs": [],
   "source": []
  },
  {
   "cell_type": "code",
   "execution_count": null,
   "id": "1a5b7aec",
   "metadata": {},
   "outputs": [],
   "source": []
  },
  {
   "cell_type": "markdown",
   "id": "a6c46b41",
   "metadata": {},
   "source": [
    "- slicing with increment"
   ]
  },
  {
   "cell_type": "code",
   "execution_count": null,
   "id": "036998a9",
   "metadata": {},
   "outputs": [],
   "source": []
  },
  {
   "cell_type": "code",
   "execution_count": null,
   "id": "fa2c2f8b",
   "metadata": {},
   "outputs": [],
   "source": []
  },
  {
   "cell_type": "code",
   "execution_count": null,
   "id": "934652d4",
   "metadata": {},
   "outputs": [],
   "source": []
  },
  {
   "cell_type": "code",
   "execution_count": null,
   "id": "c5e6329f",
   "metadata": {},
   "outputs": [],
   "source": []
  },
  {
   "cell_type": "code",
   "execution_count": null,
   "id": "bff0e7af",
   "metadata": {},
   "outputs": [],
   "source": []
  },
  {
   "cell_type": "code",
   "execution_count": null,
   "id": "269f9f1e",
   "metadata": {},
   "outputs": [],
   "source": []
  },
  {
   "cell_type": "code",
   "execution_count": null,
   "id": "df15e4cd",
   "metadata": {},
   "outputs": [],
   "source": []
  },
  {
   "cell_type": "code",
   "execution_count": null,
   "id": "26173125",
   "metadata": {},
   "outputs": [],
   "source": []
  },
  {
   "cell_type": "code",
   "execution_count": null,
   "id": "525ed5ce",
   "metadata": {},
   "outputs": [],
   "source": []
  },
  {
   "cell_type": "code",
   "execution_count": null,
   "id": "298042cb",
   "metadata": {},
   "outputs": [],
   "source": []
  },
  {
   "cell_type": "markdown",
   "id": "d0fedf34",
   "metadata": {},
   "source": [
    "- list 범위를 벗어난 slicing"
   ]
  },
  {
   "cell_type": "code",
   "execution_count": null,
   "id": "b8b6bc21",
   "metadata": {},
   "outputs": [],
   "source": []
  },
  {
   "cell_type": "code",
   "execution_count": null,
   "id": "aba4b9ca",
   "metadata": {},
   "outputs": [],
   "source": []
  },
  {
   "cell_type": "code",
   "execution_count": null,
   "id": "85965ef3",
   "metadata": {},
   "outputs": [],
   "source": []
  },
  {
   "cell_type": "code",
   "execution_count": null,
   "id": "33192ca5",
   "metadata": {},
   "outputs": [],
   "source": []
  },
  {
   "cell_type": "markdown",
   "id": "0648964b",
   "metadata": {},
   "source": [
    "- list 범위를 벗어난 indexing"
   ]
  },
  {
   "cell_type": "code",
   "execution_count": null,
   "id": "47a76df4",
   "metadata": {},
   "outputs": [],
   "source": []
  },
  {
   "cell_type": "code",
   "execution_count": null,
   "id": "388d40a6",
   "metadata": {},
   "outputs": [],
   "source": []
  },
  {
   "cell_type": "markdown",
   "id": "883a3e1a",
   "metadata": {},
   "source": [
    "## 6-4. 튜플 (Tuple) \n",
    "\n",
    "### 튜플은 element 값을 변경할 수 없는 list 이다.\n",
    "\n",
    "- Mutable : 값을 변경 가능 (list, variable)\n",
    "\n",
    "- Immutable : 값을 변경 불가능 (tuple)  \n",
    "\n",
    "\n",
    "- **변경할 수 없으므로 list 보다 memory 사용이 효율적**\n",
    "\n",
    "### Tuple 은 괄호 (  ) 로 element 들을 감싸준다.\n",
    "\n",
    "### element 를 변경할 수 없는 것 이외의 operation 은 list 와 거의 유사함."
   ]
  },
  {
   "cell_type": "markdown",
   "id": "5210ded3",
   "metadata": {},
   "source": [
    "### Tuple 과 List 비교"
   ]
  },
  {
   "cell_type": "code",
   "execution_count": null,
   "id": "ef7be9fc",
   "metadata": {},
   "outputs": [],
   "source": []
  },
  {
   "cell_type": "markdown",
   "id": "69ae1387",
   "metadata": {},
   "source": [
    "- slicing 비교"
   ]
  },
  {
   "cell_type": "code",
   "execution_count": null,
   "id": "bddda130",
   "metadata": {},
   "outputs": [],
   "source": []
  },
  {
   "cell_type": "code",
   "execution_count": null,
   "id": "f011d573",
   "metadata": {},
   "outputs": [],
   "source": []
  },
  {
   "cell_type": "markdown",
   "id": "f3464f94",
   "metadata": {},
   "source": [
    "- tuple 의 마지막 element"
   ]
  },
  {
   "cell_type": "code",
   "execution_count": null,
   "id": "86751e12",
   "metadata": {},
   "outputs": [],
   "source": []
  },
  {
   "cell_type": "markdown",
   "id": "cb79c8be",
   "metadata": {},
   "source": [
    "- element 추가"
   ]
  },
  {
   "cell_type": "code",
   "execution_count": null,
   "id": "96c2741a",
   "metadata": {},
   "outputs": [],
   "source": []
  },
  {
   "cell_type": "code",
   "execution_count": null,
   "id": "7511fe64",
   "metadata": {},
   "outputs": [],
   "source": []
  },
  {
   "cell_type": "markdown",
   "id": "8b38428c",
   "metadata": {},
   "source": [
    "- element 변경"
   ]
  },
  {
   "cell_type": "code",
   "execution_count": null,
   "id": "f4f5477a",
   "metadata": {},
   "outputs": [],
   "source": []
  },
  {
   "cell_type": "code",
   "execution_count": null,
   "id": "34d2296f",
   "metadata": {},
   "outputs": [],
   "source": []
  },
  {
   "cell_type": "markdown",
   "id": "a9929eb6",
   "metadata": {},
   "source": [
    "- 변수에 element 할당"
   ]
  },
  {
   "cell_type": "code",
   "execution_count": null,
   "id": "cb4d8bb0",
   "metadata": {},
   "outputs": [],
   "source": []
  },
  {
   "cell_type": "code",
   "execution_count": null,
   "id": "2b99e1b1",
   "metadata": {},
   "outputs": [],
   "source": []
  },
  {
   "cell_type": "code",
   "execution_count": null,
   "id": "92b534b5",
   "metadata": {},
   "outputs": [],
   "source": []
  },
  {
   "cell_type": "markdown",
   "id": "b086831a",
   "metadata": {},
   "source": [
    "- tuple이 element인 tuple의 indexing $\\rightarrow$ list 와 동일"
   ]
  },
  {
   "cell_type": "code",
   "execution_count": null,
   "id": "e0171f24",
   "metadata": {},
   "outputs": [],
   "source": []
  },
  {
   "cell_type": "code",
   "execution_count": null,
   "id": "0bb66e64",
   "metadata": {},
   "outputs": [],
   "source": []
  },
  {
   "cell_type": "code",
   "execution_count": null,
   "id": "23a3241c",
   "metadata": {},
   "outputs": [],
   "source": []
  },
  {
   "cell_type": "markdown",
   "id": "1282fff8",
   "metadata": {},
   "source": [
    "### 원소가 한개 (single element) 인 Tuple\n",
    "- comma(,) 로 tuple 임을 표시"
   ]
  },
  {
   "cell_type": "code",
   "execution_count": null,
   "id": "8b604441",
   "metadata": {},
   "outputs": [],
   "source": []
  },
  {
   "cell_type": "markdown",
   "id": "5f62b24b",
   "metadata": {},
   "source": [
    "### 여러개의 Tuple 을 하나로 merge\n",
    "\n",
    "- 기존의 tuple 을 변경하는 것이 아니고 새로운 tuple 을 생성"
   ]
  },
  {
   "cell_type": "code",
   "execution_count": null,
   "id": "aaa1b346",
   "metadata": {},
   "outputs": [],
   "source": []
  },
  {
   "cell_type": "code",
   "execution_count": null,
   "id": "3e1db553",
   "metadata": {},
   "outputs": [],
   "source": []
  },
  {
   "cell_type": "markdown",
   "id": "b7b1a9eb",
   "metadata": {},
   "source": [
    "### Tuple 생성"
   ]
  },
  {
   "cell_type": "markdown",
   "id": "e7eae321",
   "metadata": {},
   "source": [
    "- 변수에 여러개의 element assign"
   ]
  },
  {
   "cell_type": "code",
   "execution_count": null,
   "id": "3312c147",
   "metadata": {},
   "outputs": [],
   "source": []
  },
  {
   "cell_type": "code",
   "execution_count": null,
   "id": "92bbf1ed",
   "metadata": {},
   "outputs": [],
   "source": []
  },
  {
   "cell_type": "code",
   "execution_count": null,
   "id": "2e424c6b",
   "metadata": {},
   "outputs": [],
   "source": []
  },
  {
   "cell_type": "code",
   "execution_count": null,
   "id": "bca7435a",
   "metadata": {},
   "outputs": [],
   "source": []
  },
  {
   "cell_type": "code",
   "execution_count": null,
   "id": "e2ab6177",
   "metadata": {},
   "outputs": [],
   "source": []
  },
  {
   "cell_type": "markdown",
   "id": "5bc76d72",
   "metadata": {},
   "source": [
    "- tuple 내장함수를 이용한 tuple 생성"
   ]
  },
  {
   "cell_type": "code",
   "execution_count": null,
   "id": "85c4703a",
   "metadata": {},
   "outputs": [],
   "source": []
  },
  {
   "cell_type": "code",
   "execution_count": null,
   "id": "b0603d8d",
   "metadata": {},
   "outputs": [],
   "source": []
  },
  {
   "cell_type": "markdown",
   "id": "417093a0",
   "metadata": {},
   "source": [
    "### Tuple indexing"
   ]
  },
  {
   "cell_type": "code",
   "execution_count": null,
   "id": "357660cf",
   "metadata": {},
   "outputs": [],
   "source": []
  },
  {
   "cell_type": "code",
   "execution_count": null,
   "id": "dd9de1ff",
   "metadata": {},
   "outputs": [],
   "source": []
  },
  {
   "cell_type": "markdown",
   "id": "c1e1179b",
   "metadata": {},
   "source": [
    "### Tuple 정렬 (sort)"
   ]
  },
  {
   "cell_type": "code",
   "execution_count": null,
   "id": "9917abc0",
   "metadata": {},
   "outputs": [],
   "source": []
  },
  {
   "cell_type": "code",
   "execution_count": null,
   "id": "4e4a6358",
   "metadata": {},
   "outputs": [],
   "source": []
  },
  {
   "cell_type": "code",
   "execution_count": null,
   "id": "b2b6e926",
   "metadata": {},
   "outputs": [],
   "source": []
  },
  {
   "cell_type": "code",
   "execution_count": null,
   "id": "497be95a",
   "metadata": {},
   "outputs": [],
   "source": []
  },
  {
   "cell_type": "code",
   "execution_count": null,
   "id": "833cf3bd",
   "metadata": {},
   "outputs": [],
   "source": []
  },
  {
   "cell_type": "code",
   "execution_count": null,
   "id": "4b3b0fc5",
   "metadata": {},
   "outputs": [],
   "source": []
  },
  {
   "cell_type": "markdown",
   "id": "ed061475",
   "metadata": {},
   "source": [
    "### Tuple 의 크기 비교 \n",
    "\n",
    "- 왼쪽 element 부터 비교"
   ]
  },
  {
   "cell_type": "code",
   "execution_count": null,
   "id": "8e6fce7d",
   "metadata": {},
   "outputs": [],
   "source": []
  },
  {
   "cell_type": "code",
   "execution_count": null,
   "id": "526faf4a",
   "metadata": {},
   "outputs": [],
   "source": []
  },
  {
   "cell_type": "code",
   "execution_count": null,
   "id": "0e887069",
   "metadata": {},
   "outputs": [],
   "source": []
  },
  {
   "cell_type": "markdown",
   "id": "df58039b",
   "metadata": {},
   "source": [
    "## zip\n",
    "\n",
    "- zip(*iterable)은 동일한 개수로 이루어진 자료형을 묶어 주는 역할을 하는 함수"
   ]
  },
  {
   "cell_type": "code",
   "execution_count": null,
   "id": "797762f7",
   "metadata": {},
   "outputs": [],
   "source": []
  },
  {
   "cell_type": "code",
   "execution_count": null,
   "id": "ded4c539",
   "metadata": {},
   "outputs": [],
   "source": []
  },
  {
   "cell_type": "code",
   "execution_count": null,
   "id": "e2048eef",
   "metadata": {},
   "outputs": [],
   "source": []
  },
  {
   "cell_type": "code",
   "execution_count": null,
   "id": "d031ec3a",
   "metadata": {},
   "outputs": [],
   "source": []
  },
  {
   "cell_type": "markdown",
   "id": "c3eaa91c",
   "metadata": {},
   "source": [
    "## List / Tuple 연습문제"
   ]
  },
  {
   "cell_type": "markdown",
   "id": "34f3bed9",
   "metadata": {},
   "source": [
    "1) 다음 프로그램의 결과값은 ?\n",
    "```\n",
    "    xlist = []\n",
    "    xlist.append('Good')\n",
    "    xlist.append('Morning')\n",
    "    print(xlist)\n",
    "    \n",
    "    xlist.append([3, 4])\n",
    "    print(xlist)\n",
    "```"
   ]
  },
  {
   "cell_type": "markdown",
   "id": "b2322834",
   "metadata": {},
   "source": [
    "2) 다음 list 의 element 를 오름차순으로 정렬 (ascending sort) 한다. 또한, 내림차순 (descending order)으로 정렬한다. sort(), sort(reverse=True) 함수를 사용한다.\n",
    "    \n",
    "    xlist = [2, 1, 3, 5, 4]"
   ]
  },
  {
   "cell_type": "markdown",
   "id": "199956b8",
   "metadata": {},
   "source": [
    "3) 두개의 list element 들을 짝을 지워 출력  \n",
    "\n",
    "stocks = ['삼성전자', '대한항공', 'google', 'apple']  \n",
    "close = [40000, 2000, 50000, 100000]"
   ]
  }
 ],
 "metadata": {
  "kernelspec": {
   "display_name": "Python 3 (ipykernel)",
   "language": "python",
   "name": "python3"
  },
  "language_info": {
   "codemirror_mode": {
    "name": "ipython",
    "version": 3
   },
   "file_extension": ".py",
   "mimetype": "text/x-python",
   "name": "python",
   "nbconvert_exporter": "python",
   "pygments_lexer": "ipython3",
   "version": "3.9.16"
  }
 },
 "nbformat": 4,
 "nbformat_minor": 5
}
