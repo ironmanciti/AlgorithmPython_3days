{
 "cells": [
  {
   "cell_type": "markdown",
   "id": "3fe275a1",
   "metadata": {},
   "source": [
    "# 17.1 Files 입출력\n",
    "\n",
    "### open(file 명) 을 호출하면 해당 file 을 open 하고 File Handle 객체를 반환한다.\n",
    "\n",
    "### f = open('file_name', 'r') : file read 를 위한 File Handle 객체를 변수 f 로 저장\n",
    "\n",
    "### f = open('file_name', 'w') : file write 를 위한 File Handle 객체를 변수 f 로 저장\n",
    "\n",
    "### f.close() : file close \n",
    "\n",
    "### 주요 methods\n",
    "\n",
    "- f.read()  \n",
    "- f.write()  "
   ]
  },
  {
   "cell_type": "markdown",
   "id": "a523c1f1",
   "metadata": {},
   "source": [
    "### 새로운 file 생성"
   ]
  },
  {
   "cell_type": "code",
   "execution_count": null,
   "id": "9bab9ecc",
   "metadata": {},
   "outputs": [],
   "source": []
  },
  {
   "cell_type": "markdown",
   "id": "905b76f9",
   "metadata": {},
   "source": [
    "## 이미 존재하는 file open"
   ]
  },
  {
   "cell_type": "markdown",
   "id": "5142163b",
   "metadata": {},
   "source": [
    "- 읽기 mode로 open 하여 file 전체를 한번에 출력"
   ]
  },
  {
   "cell_type": "code",
   "execution_count": null,
   "id": "422daa73",
   "metadata": {},
   "outputs": [],
   "source": []
  },
  {
   "cell_type": "markdown",
   "id": "fd3877e4",
   "metadata": {},
   "source": [
    "- binary 읽기 mode로 open 하여 file 전체를 한번에 출력"
   ]
  },
  {
   "cell_type": "code",
   "execution_count": null,
   "id": "3138168b",
   "metadata": {},
   "outputs": [],
   "source": []
  },
  {
   "cell_type": "markdown",
   "id": "9fcbdad7",
   "metadata": {},
   "source": [
    "- File Handle 을 for 문에서 sequence 로 직접 사용"
   ]
  },
  {
   "cell_type": "code",
   "execution_count": null,
   "id": "885486d8",
   "metadata": {},
   "outputs": [],
   "source": []
  },
  {
   "cell_type": "markdown",
   "id": "b29019a3",
   "metadata": {},
   "source": [
    "- readlines() method를 이용한 list 생성"
   ]
  },
  {
   "cell_type": "code",
   "execution_count": null,
   "id": "4f7d7cae",
   "metadata": {},
   "outputs": [],
   "source": []
  },
  {
   "cell_type": "markdown",
   "id": "0a282afd",
   "metadata": {},
   "source": [
    "- 생성한 list를 한 line 씩 처리"
   ]
  },
  {
   "cell_type": "code",
   "execution_count": null,
   "id": "0f9cbc32",
   "metadata": {},
   "outputs": [],
   "source": []
  },
  {
   "cell_type": "markdown",
   "id": "2bd7eef4",
   "metadata": {},
   "source": [
    "- file에 포함된 whie space를 제거하고 출력"
   ]
  },
  {
   "cell_type": "code",
   "execution_count": null,
   "id": "1408c1bd",
   "metadata": {},
   "outputs": [],
   "source": []
  },
  {
   "cell_type": "markdown",
   "id": "94839879",
   "metadata": {},
   "source": [
    "### File 의 내용 탐색 \n",
    "\n",
    "- string method를 이용한 조건 check"
   ]
  },
  {
   "cell_type": "code",
   "execution_count": null,
   "id": "01e5fa50",
   "metadata": {},
   "outputs": [],
   "source": []
  },
  {
   "cell_type": "markdown",
   "id": "b008e6b0",
   "metadata": {},
   "source": [
    "## file path 지정"
   ]
  },
  {
   "cell_type": "code",
   "execution_count": null,
   "id": "f4f4e1f2",
   "metadata": {},
   "outputs": [],
   "source": []
  },
  {
   "cell_type": "markdown",
   "id": "55f309fa",
   "metadata": {},
   "source": [
    "- 특정 파일의 절대 경로"
   ]
  },
  {
   "cell_type": "code",
   "execution_count": null,
   "id": "7d93f419",
   "metadata": {},
   "outputs": [],
   "source": []
  },
  {
   "cell_type": "markdown",
   "id": "fb15f43a",
   "metadata": {},
   "source": [
    "- 두개의 경로 결합"
   ]
  },
  {
   "cell_type": "code",
   "execution_count": null,
   "id": "7ee93627",
   "metadata": {},
   "outputs": [],
   "source": []
  },
  {
   "cell_type": "markdown",
   "id": "feb291ab",
   "metadata": {},
   "source": [
    "- 특정 파일의 디렉토리 이름"
   ]
  },
  {
   "cell_type": "code",
   "execution_count": null,
   "id": "916d7541",
   "metadata": {},
   "outputs": [],
   "source": []
  },
  {
   "cell_type": "markdown",
   "id": "b5641f7c",
   "metadata": {},
   "source": [
    "- 특정 파일의 존재 여부 check"
   ]
  },
  {
   "cell_type": "code",
   "execution_count": null,
   "id": "9ff7383c",
   "metadata": {},
   "outputs": [],
   "source": []
  },
  {
   "cell_type": "markdown",
   "id": "18e53460",
   "metadata": {},
   "source": [
    "## with open 문으로 file 읽기/쓰기\n",
    "\n",
    "#### with 문을 이용하면 with 블록을 벗어나는 순간 열린 파일 객체가 자동으로 close되어 편리함."
   ]
  },
  {
   "cell_type": "markdown",
   "id": "cb83e198",
   "metadata": {},
   "source": [
    "- with open 문을 이용한 file 읽기"
   ]
  },
  {
   "cell_type": "code",
   "execution_count": null,
   "id": "5c5652aa",
   "metadata": {},
   "outputs": [],
   "source": []
  },
  {
   "cell_type": "markdown",
   "id": "97e7601e",
   "metadata": {},
   "source": [
    "- with open문을 이용한 file 쓰기"
   ]
  },
  {
   "cell_type": "code",
   "execution_count": null,
   "id": "95c4513d",
   "metadata": {},
   "outputs": [],
   "source": []
  },
  {
   "cell_type": "markdown",
   "id": "94f5e13f",
   "metadata": {},
   "source": [
    "# 17.2 Exception Handling\n",
    "\n",
    "## 기본 구문\n",
    "```\n",
    "\n",
    "try: \n",
    "    예외를 유발할 수 있는 구문 \n",
    "except <예외 종류>: \n",
    "    예외 처리를 수행하는 구문\n",
    "finally:\n",
    "    정상, 예외 모든 경우에 수행되는 구문\n",
    "```"
   ]
  },
  {
   "cell_type": "code",
   "execution_count": null,
   "id": "8f755347",
   "metadata": {},
   "outputs": [],
   "source": []
  },
  {
   "cell_type": "markdown",
   "id": "b617ad60",
   "metadata": {},
   "source": [
    "### 특정 예외 발생 (내장 exceptions)\n",
    "- ValueError - 작업 중 유효하지 않은 값을 마주 했을 때 발생  \n",
    "- TypeError -  잘못된 유형의 값으로 작업이 수행될 경우 발생  \n",
    "- NameError - 사용하려는 변수의 이름이 아직 정의되어 있지 않을 때 발생  \n",
    "- ZeroDivisionError - 나눗셈 연산에서 어떤 수를 나누는 수가 0일 때 발생  \n",
    "- OverflowError - 산술 연산의 결과가 너무 클 때 발생  \n",
    "- OSError - 시스템 관련 에러를 돌려줄 때 발생\n",
    "\n",
    "[기타 내장 예외 참조](https://docs.python.org/ko/3/library/exceptions.html)"
   ]
  },
  {
   "cell_type": "code",
   "execution_count": null,
   "id": "0bbfbf6e",
   "metadata": {},
   "outputs": [],
   "source": []
  },
  {
   "cell_type": "markdown",
   "id": "cecfb123",
   "metadata": {},
   "source": [
    "### finally - 무조건 수행"
   ]
  },
  {
   "cell_type": "code",
   "execution_count": null,
   "id": "b5880432",
   "metadata": {},
   "outputs": [],
   "source": []
  },
  {
   "cell_type": "markdown",
   "id": "200b3ca9",
   "metadata": {},
   "source": [
    "### 일반적 모든 예외 처리"
   ]
  },
  {
   "cell_type": "code",
   "execution_count": null,
   "id": "6a86936b",
   "metadata": {},
   "outputs": [],
   "source": []
  },
  {
   "cell_type": "markdown",
   "id": "211b6f4f",
   "metadata": {},
   "source": [
    "### raise Exception\n",
    "\n",
    "- 인위적으로 예외 발생"
   ]
  },
  {
   "cell_type": "code",
   "execution_count": null,
   "id": "68d5bf33",
   "metadata": {},
   "outputs": [],
   "source": []
  },
  {
   "cell_type": "markdown",
   "id": "8c980acc",
   "metadata": {},
   "source": [
    "### 예외처리 세분"
   ]
  },
  {
   "cell_type": "code",
   "execution_count": null,
   "id": "6f95b9ab",
   "metadata": {},
   "outputs": [],
   "source": []
  },
  {
   "cell_type": "markdown",
   "id": "056485d2",
   "metadata": {},
   "source": [
    "### 함수 내에서 True/False 반환"
   ]
  },
  {
   "cell_type": "code",
   "execution_count": null,
   "id": "ac124451",
   "metadata": {},
   "outputs": [],
   "source": [
    "def is_valid(a, b):"
   ]
  },
  {
   "cell_type": "markdown",
   "id": "044188d3",
   "metadata": {},
   "source": [
    "## IO error 처리"
   ]
  },
  {
   "cell_type": "code",
   "execution_count": null,
   "id": "307a9626",
   "metadata": {},
   "outputs": [],
   "source": []
  },
  {
   "cell_type": "markdown",
   "id": "2cdc66cd",
   "metadata": {},
   "source": [
    "### assert\n",
    "\n",
    "- 반드시 확실해야 하는 경우 check 하여 인위적 예외 발생"
   ]
  },
  {
   "cell_type": "markdown",
   "id": "c6e028de",
   "metadata": {},
   "source": [
    "- 3의 배수가 아니면 예외 발생, 3의 배수이면 그냥 넘어감"
   ]
  },
  {
   "cell_type": "code",
   "execution_count": null,
   "id": "78e4a618",
   "metadata": {},
   "outputs": [],
   "source": []
  },
  {
   "cell_type": "code",
   "execution_count": null,
   "id": "2ae47c82",
   "metadata": {},
   "outputs": [],
   "source": []
  },
  {
   "cell_type": "markdown",
   "id": "1289c30f",
   "metadata": {},
   "source": [
    "### 존재하는 file 삭제"
   ]
  },
  {
   "cell_type": "code",
   "execution_count": null,
   "id": "efe95bc3",
   "metadata": {},
   "outputs": [],
   "source": []
  },
  {
   "cell_type": "markdown",
   "id": "2219364a",
   "metadata": {},
   "source": [
    "### CSV File read / write"
   ]
  },
  {
   "cell_type": "markdown",
   "id": "466673f8",
   "metadata": {},
   "source": [
    "- csv file 읽기"
   ]
  },
  {
   "cell_type": "code",
   "execution_count": null,
   "id": "f485233c",
   "metadata": {},
   "outputs": [],
   "source": []
  },
  {
   "cell_type": "markdown",
   "id": "16f81552",
   "metadata": {},
   "source": [
    "- csv file 쓰기"
   ]
  },
  {
   "cell_type": "code",
   "execution_count": null,
   "id": "5c4dbd57",
   "metadata": {},
   "outputs": [],
   "source": []
  },
  {
   "cell_type": "markdown",
   "id": "dffb476a",
   "metadata": {},
   "source": [
    "- 위에서 생성했던 csv file 읽기"
   ]
  },
  {
   "cell_type": "code",
   "execution_count": null,
   "id": "4dbcb056",
   "metadata": {},
   "outputs": [],
   "source": []
  },
  {
   "cell_type": "markdown",
   "id": "30e5cb21",
   "metadata": {},
   "source": [
    "### JSON File read / write\n",
    "\n",
    "- json file 읽기"
   ]
  },
  {
   "cell_type": "code",
   "execution_count": null,
   "id": "a3ef59db",
   "metadata": {},
   "outputs": [],
   "source": []
  },
  {
   "cell_type": "code",
   "execution_count": null,
   "id": "c4841c2e",
   "metadata": {},
   "outputs": [],
   "source": []
  },
  {
   "cell_type": "markdown",
   "id": "e3beeda0",
   "metadata": {},
   "source": [
    "- json file 쓰기"
   ]
  },
  {
   "cell_type": "code",
   "execution_count": null,
   "id": "b9f78665",
   "metadata": {},
   "outputs": [],
   "source": []
  },
  {
   "cell_type": "markdown",
   "id": "b4458120",
   "metadata": {},
   "source": [
    "### 연습문제\n",
    "\n",
    "1) 다음 문장을 file 에 write 하고 다시 읽어서 print 한다.\n",
    "\n",
    "\"한국소프트웨어 산업협회 훈련과정 :   \n",
    "알고리즘으로 배우는 Python\""
   ]
  },
  {
   "cell_type": "markdown",
   "id": "d4d72bc6",
   "metadata": {},
   "source": [
    "2) 다음 file 을 읽어서 가장 빈번하게 나타나는 top 10 단어들을 출력하라\n",
    "\n",
    "    - \"poet.txt\" file 을 open\n",
    "    - count dictionary 생성 \n",
    "    - count.items() 를 이용하여 (key, value) list 생성\n",
    "    - value 의 reverse 순으로 정렬 -> sorted(list, reverse=True)"
   ]
  },
  {
   "cell_type": "code",
   "execution_count": null,
   "id": "d6575d14",
   "metadata": {},
   "outputs": [],
   "source": []
  },
  {
   "cell_type": "code",
   "execution_count": null,
   "id": "12104c36",
   "metadata": {},
   "outputs": [],
   "source": []
  }
 ],
 "metadata": {
  "kernelspec": {
   "display_name": "Python 3 (ipykernel)",
   "language": "python",
   "name": "python3"
  },
  "language_info": {
   "codemirror_mode": {
    "name": "ipython",
    "version": 3
   },
   "file_extension": ".py",
   "mimetype": "text/x-python",
   "name": "python",
   "nbconvert_exporter": "python",
   "pygments_lexer": "ipython3",
   "version": "3.9.7"
  }
 },
 "nbformat": 4,
 "nbformat_minor": 5
}
