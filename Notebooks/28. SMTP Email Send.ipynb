{
 "cells": [
  {
   "cell_type": "markdown",
   "metadata": {},
   "source": [
    "# 28. mtplib - 파일 첨부하여 이메일 보내기\n",
    "\n",
    "- smtplib 모듈은 이메일을 송신할때 사용하는 모듈이다.  \n",
    "\n",
    "- 다음과 같은 정보를 기준으로 코드를 작성.\n",
    "```\n",
    "SMTP 메일서버 주소 : \"smtp.gmail.com\" (gmail의 SMTP 서버주소)\n",
    "보내는 메일 계정 : \"ironmanciti@gmail.com\" (본인의 메일계정으로 사용할 것)\n",
    "보내는 메일 계정의 비밀번호 : xxxxxxx (본인의 비밀번호로 사용할 것)\n",
    "받는 사람의 메일 계정 : \"trimurti@naver.com\" (발송한 메일을 확인할 수 있는 메일계정)\n",
    "메일의 제목 : 파일첨부 메일송신 테스트\n",
    "메일의 내용 : 첨부된 파일 2개를 확인해 주세요.\n",
    "보내는 파일 2개의 위치 (jpg, pdf 등)\n",
    "```\n",
    "\n",
    "- email 모듈을 이용하여 발송할 메시지를 작성한다. 메시지는 파일을 첨부해야 하기 때문에 MIMEMultipart 클래스를 사용해야 한다."
   ]
  },
  {
   "cell_type": "code",
   "execution_count": 1,
   "metadata": {},
   "outputs": [],
   "source": [
    "import datetime\n",
    "import re\n",
    "import pandas as pd\n",
    "import smtplib, ssl\n",
    "\n",
    "from email.utils import formatdate\n",
    "from email.mime.multipart import MIMEMultipart\n",
    "from email.header import Header\n",
    "\n",
    "# 메일 제목과 내용을 설정하는 모듈\n",
    "from email.mime.text import MIMEText\n",
    "import os\n",
    "from email.mime.base import MIMEBase\n",
    "from email.encoders import encode_base64"
   ]
  },
  {
   "cell_type": "code",
   "execution_count": 12,
   "metadata": {},
   "outputs": [
    {
     "ename": "SMTPAuthenticationError",
     "evalue": "(534, b'5.7.9 Application-specific password required. For more information, go to\\n5.7.9  https://support.google.com/mail/?p=InvalidSecondFactor g13-20020a170902c38d00b001d7014b28fbsm1862455plg.286 - gsmtp')",
     "output_type": "error",
     "traceback": [
      "\u001b[1;31m---------------------------------------------------------------------------\u001b[0m",
      "\u001b[1;31mSMTPAuthenticationError\u001b[0m                   Traceback (most recent call last)",
      "\u001b[1;32m~\\AppData\\Local\\Temp\\ipykernel_20620\\3203433854.py\u001b[0m in \u001b[0;36m<module>\u001b[1;34m\u001b[0m\n\u001b[0;32m     21\u001b[0m \u001b[0mmy_account\u001b[0m \u001b[1;33m=\u001b[0m \u001b[1;34m\"ironmanciti@gmail.com\"\u001b[0m\u001b[1;33m\u001b[0m\u001b[1;33m\u001b[0m\u001b[0m\n\u001b[0;32m     22\u001b[0m \u001b[0mmy_password\u001b[0m \u001b[1;33m=\u001b[0m \u001b[1;34m\"Dre@mer01\"\u001b[0m\u001b[1;33m\u001b[0m\u001b[1;33m\u001b[0m\u001b[0m\n\u001b[1;32m---> 23\u001b[1;33m \u001b[0msmtp\u001b[0m\u001b[1;33m.\u001b[0m\u001b[0mlogin\u001b[0m\u001b[1;33m(\u001b[0m\u001b[0mmy_account\u001b[0m\u001b[1;33m,\u001b[0m \u001b[0mmy_password\u001b[0m\u001b[1;33m)\u001b[0m\u001b[1;33m\u001b[0m\u001b[1;33m\u001b[0m\u001b[0m\n\u001b[0m\u001b[0;32m     24\u001b[0m \u001b[1;33m\u001b[0m\u001b[0m\n\u001b[0;32m     25\u001b[0m \u001b[1;31m# 메일을 받을 계정\u001b[0m\u001b[1;33m\u001b[0m\u001b[1;33m\u001b[0m\u001b[0m\n",
      "\u001b[1;32m~\\anaconda3\\lib\\smtplib.py\u001b[0m in \u001b[0;36mlogin\u001b[1;34m(self, user, password, initial_response_ok)\u001b[0m\n\u001b[0;32m    748\u001b[0m \u001b[1;33m\u001b[0m\u001b[0m\n\u001b[0;32m    749\u001b[0m         \u001b[1;31m# We could not login successfully.  Return result of last attempt.\u001b[0m\u001b[1;33m\u001b[0m\u001b[1;33m\u001b[0m\u001b[0m\n\u001b[1;32m--> 750\u001b[1;33m         \u001b[1;32mraise\u001b[0m \u001b[0mlast_exception\u001b[0m\u001b[1;33m\u001b[0m\u001b[1;33m\u001b[0m\u001b[0m\n\u001b[0m\u001b[0;32m    751\u001b[0m \u001b[1;33m\u001b[0m\u001b[0m\n\u001b[0;32m    752\u001b[0m     \u001b[1;32mdef\u001b[0m \u001b[0mstarttls\u001b[0m\u001b[1;33m(\u001b[0m\u001b[0mself\u001b[0m\u001b[1;33m,\u001b[0m \u001b[0mkeyfile\u001b[0m\u001b[1;33m=\u001b[0m\u001b[1;32mNone\u001b[0m\u001b[1;33m,\u001b[0m \u001b[0mcertfile\u001b[0m\u001b[1;33m=\u001b[0m\u001b[1;32mNone\u001b[0m\u001b[1;33m,\u001b[0m \u001b[0mcontext\u001b[0m\u001b[1;33m=\u001b[0m\u001b[1;32mNone\u001b[0m\u001b[1;33m)\u001b[0m\u001b[1;33m:\u001b[0m\u001b[1;33m\u001b[0m\u001b[1;33m\u001b[0m\u001b[0m\n",
      "\u001b[1;32m~\\anaconda3\\lib\\smtplib.py\u001b[0m in \u001b[0;36mlogin\u001b[1;34m(self, user, password, initial_response_ok)\u001b[0m\n\u001b[0;32m    737\u001b[0m             \u001b[0mmethod_name\u001b[0m \u001b[1;33m=\u001b[0m \u001b[1;34m'auth_'\u001b[0m \u001b[1;33m+\u001b[0m \u001b[0mauthmethod\u001b[0m\u001b[1;33m.\u001b[0m\u001b[0mlower\u001b[0m\u001b[1;33m(\u001b[0m\u001b[1;33m)\u001b[0m\u001b[1;33m.\u001b[0m\u001b[0mreplace\u001b[0m\u001b[1;33m(\u001b[0m\u001b[1;34m'-'\u001b[0m\u001b[1;33m,\u001b[0m \u001b[1;34m'_'\u001b[0m\u001b[1;33m)\u001b[0m\u001b[1;33m\u001b[0m\u001b[1;33m\u001b[0m\u001b[0m\n\u001b[0;32m    738\u001b[0m             \u001b[1;32mtry\u001b[0m\u001b[1;33m:\u001b[0m\u001b[1;33m\u001b[0m\u001b[1;33m\u001b[0m\u001b[0m\n\u001b[1;32m--> 739\u001b[1;33m                 (code, resp) = self.auth(\n\u001b[0m\u001b[0;32m    740\u001b[0m                     \u001b[0mauthmethod\u001b[0m\u001b[1;33m,\u001b[0m \u001b[0mgetattr\u001b[0m\u001b[1;33m(\u001b[0m\u001b[0mself\u001b[0m\u001b[1;33m,\u001b[0m \u001b[0mmethod_name\u001b[0m\u001b[1;33m)\u001b[0m\u001b[1;33m,\u001b[0m\u001b[1;33m\u001b[0m\u001b[1;33m\u001b[0m\u001b[0m\n\u001b[0;32m    741\u001b[0m                     initial_response_ok=initial_response_ok)\n",
      "\u001b[1;32m~\\anaconda3\\lib\\smtplib.py\u001b[0m in \u001b[0;36mauth\u001b[1;34m(self, mechanism, authobject, initial_response_ok)\u001b[0m\n\u001b[0;32m    660\u001b[0m         \u001b[1;32mif\u001b[0m \u001b[0mcode\u001b[0m \u001b[1;32min\u001b[0m \u001b[1;33m(\u001b[0m\u001b[1;36m235\u001b[0m\u001b[1;33m,\u001b[0m \u001b[1;36m503\u001b[0m\u001b[1;33m)\u001b[0m\u001b[1;33m:\u001b[0m\u001b[1;33m\u001b[0m\u001b[1;33m\u001b[0m\u001b[0m\n\u001b[0;32m    661\u001b[0m             \u001b[1;32mreturn\u001b[0m \u001b[1;33m(\u001b[0m\u001b[0mcode\u001b[0m\u001b[1;33m,\u001b[0m \u001b[0mresp\u001b[0m\u001b[1;33m)\u001b[0m\u001b[1;33m\u001b[0m\u001b[1;33m\u001b[0m\u001b[0m\n\u001b[1;32m--> 662\u001b[1;33m         \u001b[1;32mraise\u001b[0m \u001b[0mSMTPAuthenticationError\u001b[0m\u001b[1;33m(\u001b[0m\u001b[0mcode\u001b[0m\u001b[1;33m,\u001b[0m \u001b[0mresp\u001b[0m\u001b[1;33m)\u001b[0m\u001b[1;33m\u001b[0m\u001b[1;33m\u001b[0m\u001b[0m\n\u001b[0m\u001b[0;32m    663\u001b[0m \u001b[1;33m\u001b[0m\u001b[0m\n\u001b[0;32m    664\u001b[0m     \u001b[1;32mdef\u001b[0m \u001b[0mauth_cram_md5\u001b[0m\u001b[1;33m(\u001b[0m\u001b[0mself\u001b[0m\u001b[1;33m,\u001b[0m \u001b[0mchallenge\u001b[0m\u001b[1;33m=\u001b[0m\u001b[1;32mNone\u001b[0m\u001b[1;33m)\u001b[0m\u001b[1;33m:\u001b[0m\u001b[1;33m\u001b[0m\u001b[1;33m\u001b[0m\u001b[0m\n",
      "\u001b[1;31mSMTPAuthenticationError\u001b[0m: (534, b'5.7.9 Application-specific password required. For more information, go to\\n5.7.9  https://support.google.com/mail/?p=InvalidSecondFactor g13-20020a170902c38d00b001d7014b28fbsm1862455plg.286 - gsmtp')"
     ]
    }
   ],
   "source": [
    "import smtplib  # SMTP 사용을 위한 모듈\n",
    "import re  # Regular Expression을 활용하기 위한 모듈\n",
    "from email.mime.multipart import MIMEMultipart  # 메일의 Data 영역의 메시지를 만드는 모듈\n",
    "from email.mime.text import MIMEText  # 메일의 본문 내용을 만드는 모듈\n",
    "from email.mime.image import MIMEImage  # 메일의 이미지 파일을 base64 형식으로 변환하기 위한 모듈\n",
    " \n",
    "def sendEmail(addr):\n",
    "    reg = \"^[a-zA-Z0-9.+_-]+@[a-zA-Z0-9]+\\.[a-zA-Z]{2,3}$\"  # 유효성 검사를 위한 정규표현식\n",
    "    if re.match(reg, addr):\n",
    "        smtp.sendmail(my_account, to_mail, msg.as_string())\n",
    "        print(\"정상적으로 메일이 발송되었습니다.\")\n",
    "    else:\n",
    "        print(\"받으실 메일 주소를 정확히 입력하십시오.\")\n",
    " \n",
    "# smpt 서버와 연결\n",
    "gmail_smtp = \"smtp.gmail.com\"  # gmail smtp 주소\n",
    "gmail_port = 465  # gmail smtp 포트번호. 고정(변경 불가)\n",
    "smtp = smtplib.SMTP_SSL(gmail_smtp, gmail_port)\n",
    " \n",
    "# 로그인\n",
    "my_account = \"ironmanciti@gmail.com\"\n",
    "my_password = \"Dre@mer01\"\n",
    "smtp.login(my_account, my_password)\n",
    " \n",
    "# 메일을 받을 계정\n",
    "to_mail = \"trimurti@naver.com\"\n",
    " \n",
    "# 메일 기본 정보 설정\n",
    "msg = MIMEMultipart()\n",
    "msg[\"Subject\"] = f\"첨부 파일 확인 바랍니다\"  # 메일 제목\n",
    "msg[\"From\"] = my_account\n",
    "msg[\"To\"] = to_mail\n",
    " \n",
    "# 메일 본문 내용\n",
    "content = \"안녕하세요. \\n\\n\\\n",
    "데이터를 전달드립니다.\\n\\n\\\n",
    "감사합니다\\n\\n\\\n",
    "\"\n",
    "content_part = MIMEText(content, \"plain\")\n",
    "msg.attach(content_part)\n",
    " \n",
    "# 이미지 파일 추가\n",
    "image_name = \"test.png\"\n",
    "with open(image_name, 'rb') as file:\n",
    "    img = MIMEImage(file.read())\n",
    "    img.add_header('Content-Disposition', 'attachment', filename=image_name)\n",
    "    msg.attach(img)\n",
    " \n",
    "# 받는 메일 유효성 검사 거친 후 메일 전송\n",
    "sendEmail(to_mail)\n",
    " \n",
    "# smtp 서버 연결 해제\n",
    "smtp.quit()"
   ]
  },
  {
   "cell_type": "code",
   "execution_count": 2,
   "metadata": {},
   "outputs": [],
   "source": [
    "msg = MIMEMultipart()"
   ]
  },
  {
   "cell_type": "markdown",
   "metadata": {},
   "source": [
    "생성한 메시지 객체에 보내는 사람과 받는 사람을 설정  \n",
    "\n",
    "만약 수신인이 한 명이 아닌 여러명일 경우 다음과 같이 콤마+스페이스로 구분하여 여러명을 추가.\n",
    "```\n",
    "msg['To'] = 'pahkey@gmail.com, admin@wikidocs.net'\n",
    "```"
   ]
  },
  {
   "cell_type": "code",
   "execution_count": 3,
   "metadata": {},
   "outputs": [
    {
     "data": {
      "text/plain": [
       "'Fri, 19 Jan 2024 07:43:04 +0900'"
      ]
     },
     "execution_count": 3,
     "metadata": {},
     "output_type": "execute_result"
    }
   ],
   "source": [
    "# 날짜 설정\n",
    "formatdate(localtime=True)"
   ]
  },
  {
   "cell_type": "code",
   "execution_count": 4,
   "metadata": {},
   "outputs": [],
   "source": [
    "port = 465  # For SSL\n",
    "smtp_server = \"smtp.gmail.com\"\n",
    "sender_email = \"ironmanciti@gmail.com\"  # 보내는 사람 주소\n",
    "receiver_email = \"trimurti@naver.com\"  # 받는 사람 주소\n",
    "# with open(\"password.txt\", \"r\") as pswd:  # 앱 비밀번호\n",
    "#     password = pswd.read()\n",
    "password = \"Dre@mer01\""
   ]
  },
  {
   "cell_type": "markdown",
   "metadata": {},
   "source": [
    "message 구성"
   ]
  },
  {
   "cell_type": "code",
   "execution_count": 5,
   "metadata": {},
   "outputs": [],
   "source": [
    "msg['From'] = sender_email \n",
    "msg['To'] = receiver_email \n",
    "msg['Date'] = formatdate(localtime=True)"
   ]
  },
  {
   "cell_type": "markdown",
   "metadata": {},
   "source": [
    "제목은 같이 Header 클래스를 사용하여 설정한다. Header 클래스를 사용해야 한글이 깨지는 인코딩 문제가 발생하지 않는다. "
   ]
  },
  {
   "cell_type": "code",
   "execution_count": 6,
   "metadata": {},
   "outputs": [],
   "source": [
    "msg['Subject'] = Header(s='파일첨부 메일송신 테스트', charset='utf-8')"
   ]
  },
  {
   "cell_type": "markdown",
   "metadata": {},
   "source": [
    "메시지의 본문 내용은 MIMEText를 사용하여 작성.\n",
    "\n",
    "만들어진 body를 메시지(MIMEMultipart)에 추가"
   ]
  },
  {
   "cell_type": "code",
   "execution_count": 7,
   "metadata": {},
   "outputs": [],
   "source": [
    "body = \"\"\"\n",
    "            첨부된 파일2개를 확인해 주세요. <br>\n",
    "            그리고, <br>\n",
    "            홈페이지 링크 함께 보냅니다. <br>\n",
    "            <a href=\"https://ironmanciti.github.io/\">오영제의 홈페이지입니다.</a>\n",
    "\"\"\"\n",
    "\n",
    "msg.attach(MIMEText(body, \"html\"))"
   ]
  },
  {
   "cell_type": "markdown",
   "metadata": {},
   "source": [
    "메일에 첨부할 파일 리스트를 작성"
   ]
  },
  {
   "cell_type": "code",
   "execution_count": 8,
   "metadata": {},
   "outputs": [],
   "source": [
    "files = list()\n",
    "files.append('winequality-red.csv')\n",
    "files.append('innerJoin.png')"
   ]
  },
  {
   "cell_type": "markdown",
   "metadata": {},
   "source": [
    "- MIMEBase 클래스를 이용하여 생성한 파일내용을 메시지에 추가  \n",
    "    - `application`, `octet-stream` : 이진 파일을 보낼 때 사용. 이진 파일이면 pdf 던 엑셀이던 모두 가능. 옥텟 스트림은 이름에서처럼 8비트 단위의 바이너리 데이터를 의미  \n",
    "    - set_payload 함수를 이용하여 첨부하고 싶은 파일을 읽어 옴  \n",
    "    \n",
    "- encode_base64 함수는 추가한 파일을 base64로 인코딩하는 역할을 한다."
   ]
  },
  {
   "cell_type": "code",
   "execution_count": 9,
   "metadata": {},
   "outputs": [],
   "source": [
    "for f in files:\n",
    "    part = MIMEBase('application', \"octet-stream\")\n",
    "    part.set_payload(open(f,\"rb\").read())\n",
    "    encode_base64(part)\n",
    "    part.add_header('Content-Disposition', 'attachment; filename=\"%s\"' % os.path.basename(f))\n",
    "    msg.attach(part)"
   ]
  },
  {
   "cell_type": "markdown",
   "metadata": {},
   "source": [
    "작성한 메시지를 SMTP 서버를 사용하여 발송한다. 다음과 같이 SMTP_SSL 객체를 생성한다."
   ]
  },
  {
   "cell_type": "code",
   "execution_count": null,
   "metadata": {},
   "outputs": [],
   "source": []
  },
  {
   "cell_type": "code",
   "execution_count": 15,
   "metadata": {},
   "outputs": [],
   "source": [
    "context = ssl.create_default_context()\n",
    "\n",
    "with smtplib.SMTP_SSL(smtp_server, port, context=context) as server:\n",
    "    server.login(sender_email, password)\n",
    "    server.sendmail(sender_email, receiver_email, msg.as_string())   \n",
    "    server.quit()"
   ]
  },
  {
   "cell_type": "markdown",
   "metadata": {},
   "source": [
    "- email이 잘 도착 되었는지 확인\n",
    "\n",
    "## 위에서 작성한 내용을 하나의 함수로 결합"
   ]
  },
  {
   "cell_type": "code",
   "execution_count": 16,
   "metadata": {},
   "outputs": [
    {
     "name": "stdout",
     "output_type": "stream",
     "text": [
      "Overwriting email_sender.py\n"
     ]
    }
   ],
   "source": [
    "%%writefile email_sender.py\n",
    "def send_email(subject, body, files=[]):\n",
    "    import datetime\n",
    "    import re\n",
    "    import pandas as pd\n",
    "    import smtplib, ssl\n",
    "\n",
    "    from email.utils import formatdate\n",
    "    from email.mime.multipart import MIMEMultipart\n",
    "    from email.header import Header\n",
    "    # 메일 제목과 내용을 설정하는 모듈\n",
    "    from email.mime.text import MIMEText\n",
    "    import os\n",
    "    from email.mime.base import MIMEBase\n",
    "    from email.encoders import encode_base64\n",
    "    \n",
    "    msg = MIMEMultipart()\n",
    "\n",
    "    port = 465  # For SSL\n",
    "    smtp_server = \"smtp.gmail.com\"\n",
    "    sender_email = \"ironmanciti@gmail.com\"  # Enter your address\n",
    "    receiver_email = \"trimurti@naver.com\"  # Enter receiver address\n",
    "    with open(\"password.txt\", \"r\") as pswd:\n",
    "        password = pswd.read()\n",
    "\n",
    "    msg['From'] = sender_email \n",
    "    msg['To'] = receiver_email \n",
    "    msg['Date'] = formatdate(localtime=True)\n",
    "\n",
    "    msg['Subject'] = Header(s=subject, charset='utf-8')\n",
    "    body = MIMEText(body, _charset='utf-8')\n",
    "    msg.attach(body)\n",
    "    \n",
    "    for f in files:\n",
    "        part = MIMEBase('application', \"octet-stream\")\n",
    "        part.set_payload(open(f,\"rb\").read())\n",
    "        encode_base64(part)\n",
    "        part.add_header('Content-Disposition', 'attachment; filename=\"%s\"' % os.path.basename(f))\n",
    "        msg.attach(part)\n",
    "        \n",
    "    context = ssl.create_default_context()\n",
    "    with smtplib.SMTP_SSL(smtp_server, port, context=context) as server:\n",
    "        server.login(sender_email, password)\n",
    "        server.sendmail(sender_email, receiver_email, msg.as_string())   \n",
    "        server.quit()\n",
    "        \n",
    "    print(\"성공적으로 메일 발송\")"
   ]
  },
  {
   "cell_type": "code",
   "execution_count": 18,
   "metadata": {},
   "outputs": [
    {
     "name": "stdout",
     "output_type": "stream",
     "text": [
      "성공적으로 메일 발송\n"
     ]
    }
   ],
   "source": [
    "from email_sender import send_email\n",
    "\n",
    "subject = '파일첨부 메일송신 테스트'\n",
    "body = '첨부된 파일 2개를 확인해 주세요.\\n다음 주에 식사 같이 하십시다.'\n",
    "files = list()\n",
    "files.append('winequality-red.csv')\n",
    "files.append('16_index.html')\n",
    "\n",
    "send_email(subject, body, files)"
   ]
  },
  {
   "cell_type": "code",
   "execution_count": null,
   "metadata": {},
   "outputs": [],
   "source": []
  }
 ],
 "metadata": {
  "kernelspec": {
   "display_name": "Python 3 (ipykernel)",
   "language": "python",
   "name": "python3"
  },
  "language_info": {
   "codemirror_mode": {
    "name": "ipython",
    "version": 3
   },
   "file_extension": ".py",
   "mimetype": "text/x-python",
   "name": "python",
   "nbconvert_exporter": "python",
   "pygments_lexer": "ipython3",
   "version": "3.9.16"
  }
 },
 "nbformat": 4,
 "nbformat_minor": 4
}
